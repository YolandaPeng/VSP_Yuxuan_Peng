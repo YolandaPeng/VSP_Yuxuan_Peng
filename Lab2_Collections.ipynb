{
  "cells": [
    {
      "metadata": {
        "id": "53bab78b0d66b246"
      },
      "cell_type": "markdown",
      "source": [
        "# Lab Assignment # 2 - Collections"
      ],
      "id": "53bab78b0d66b246"
    },
    {
      "metadata": {
        "id": "c980b9461542bf99"
      },
      "cell_type": "markdown",
      "source": [
        "## Exercise 1 -- Comparison Operators\n",
        "Using `num_list` and list comprehensions, create three lists that correspond to the elements in num_list:\n",
        "1. `equal_list` whose elements should be true if the corresponding element in `num_list` is equal to 0 and false otherwise.\n",
        "2. `greater_list` whose elements should be true if the corresponding element in `num_list` is strictly greater than 0 and false otherwise.\n",
        "3. `lesser_list` whose elements should be true if the corresponding element in `num_list` is strictly less than 0 and false otherwise.\n",
        "4. Finally, using the three lists you generated, list comprehensions, and `zip()`, create `true_list` a list of length 7 where every element is true.\n",
        "\n",
        "**Hints for 4:**\n",
        "- `zip` can be used on more than two lists\n",
        "- use `or` within the list comprehension"
      ],
      "id": "c980b9461542bf99"
    },
    {
      "metadata": {
        "id": "2e353f3a5c8caeb4",
        "colab": {
          "base_uri": "https://localhost:8080/"
        },
        "outputId": "608d2c65-e79b-4bc2-aec6-783d2e789550"
      },
      "cell_type": "code",
      "source": [
        "# Exercise 1 Code\n",
        "# Don't edit the line below\n",
        "num_list = [-5, -3, -1, 0, 1, 3, 5]\n",
        "\n",
        "# your code below here\n",
        "equal_list = [num == 0 for num in num_list]\n",
        "greater_list = [num > 0 for num in num_list]\n",
        "lesser_list = [num < 0 for num in num_list]\n",
        "\n",
        "true_list = [a or b or c for a, b, c in zip(equal_list, greater_list, lesser_list)]\n",
        "\n",
        "print(\"true_list:\", true_list)"
      ],
      "id": "2e353f3a5c8caeb4",
      "outputs": [
        {
          "output_type": "stream",
          "name": "stdout",
          "text": [
            "true_list: [True, True, True, True, True, True, True]\n"
          ]
        }
      ],
      "execution_count": 1
    },
    {
      "metadata": {
        "id": "af64d7ed5202ea4"
      },
      "cell_type": "markdown",
      "source": [
        "## Exercise 2 -- Lists\n",
        "Complete the following steps in the cells below:\n",
        "1. Add two different elements from `num_list` together so that the sum is 0. Print the result.\n",
        "2. Using `.append()`, add a 7 to the end of `num_list`\n",
        "3. Using `.insert()`, add a -7 to the start of `num_list`\n",
        "3. Change each element of `num_list` individually so that it it is equal to the list `[-4, -3, -2, -1, 0, 1, 2, 3, 4]`\n",
        "4. Use the list method `.reverse()` on `num_list` then print `num_list`. What does `.reverse()` do?  Did `.reverse()` change `num_list`?  Answer in the Markdown Cell.\n"
      ],
      "id": "af64d7ed5202ea4"
    },
    {
      "metadata": {
        "id": "d7b462dd84d7b94a",
        "colab": {
          "base_uri": "https://localhost:8080/"
        },
        "outputId": "ee1bb37f-d389-4c7d-b3c3-a01310759acd"
      },
      "cell_type": "code",
      "source": [
        "# Exercise 2 Code\n",
        "num_list = [-5, -3, -1, 0, 1, 3, 5]\n",
        "num_list. append(7)\n",
        "num_list. insert(0, \"-7\")\n",
        "\n",
        "num_list[0] = -4\n",
        "num_list[1] = -3\n",
        "num_list[2] = -2\n",
        "num_list[3] = -1\n",
        "num_list[4] = 0\n",
        "num_list[5] = 1\n",
        "num_list[6] = 2\n",
        "num_list[7] = 3\n",
        "num_list[8] = 4\n",
        "\n",
        "num_list. reverse()\n",
        "print(num_list)"
      ],
      "id": "d7b462dd84d7b94a",
      "outputs": [
        {
          "output_type": "stream",
          "name": "stdout",
          "text": [
            "[4, 3, 2, 1, 0, -1, -2, -3, -4]\n"
          ]
        }
      ],
      "execution_count": 2
    },
    {
      "cell_type": "code",
      "source": [
        "print(num_list)"
      ],
      "metadata": {
        "colab": {
          "base_uri": "https://localhost:8080/"
        },
        "id": "9d6elLnlBXZV",
        "outputId": "b0589033-043d-44ed-8ebe-a877dbc951fd"
      },
      "id": "9d6elLnlBXZV",
      "execution_count": 3,
      "outputs": [
        {
          "output_type": "stream",
          "name": "stdout",
          "text": [
            "[4, 3, 2, 1, 0, -1, -2, -3, -4]\n"
          ]
        }
      ]
    },
    {
      "metadata": {
        "id": "89dc2473a4e17740"
      },
      "cell_type": "markdown",
      "source": [
        "### Response to Exercise 2.5\n",
        "`.reverse` change the order of `num_list`.\n",
        "\n",
        "`num_list` is changed after it."
      ],
      "id": "89dc2473a4e17740"
    },
    {
      "metadata": {
        "id": "47726a8961d2a436"
      },
      "cell_type": "markdown",
      "source": [
        "## Exercise 3 -- Dictonaries\n",
        "First, define a dictonary called `my_dict`. It should contain four keys:\n",
        "- \"name\"\n",
        "- \"major\"\n",
        "- \"favorite artist\"\n",
        "- \"favorite food\"\n",
        "\n",
        "Fill out the values to match your name, major, etc.\n",
        "\n",
        "Using `my_dict` and string formatting, print a sentence in the cell below that says who you are, what your major is, your favorite artist, and your favorite food."
      ],
      "id": "47726a8961d2a436"
    },
    {
      "metadata": {
        "id": "e61e388fab247657",
        "colab": {
          "base_uri": "https://localhost:8080/"
        },
        "outputId": "28b16aa5-9335-469a-94c7-6353cdf933c8"
      },
      "cell_type": "code",
      "source": [
        "# Exercise 3 Code\n",
        "my_dict = {\n",
        "    \"name\": \"Yolanda\",\n",
        "    \"major\": \"Philosophy of Science and Technology\",\n",
        "    \"favorite artist\": \"Taylor Swift\",\n",
        "    \"favorite food\": \"tomatoes\"\n",
        "}\n",
        "print(f\"My name is {my_dict['name']}, my major is {my_dict['major']}, my favorite artist is {my_dict['favorite artist']}, and my favorite food is {my_dict['favorite food']}\")"
      ],
      "id": "e61e388fab247657",
      "outputs": [
        {
          "output_type": "stream",
          "name": "stdout",
          "text": [
            "My name is Yolanda, my major is Philosophy of Science and Technology, my favorite artist is Taylor Swift, and my favorite food is tomatoes\n"
          ]
        }
      ],
      "execution_count": 12
    },
    {
      "metadata": {
        "id": "8476f31e2c9c2da7"
      },
      "cell_type": "markdown",
      "source": [
        "## Exercise 4 -- Type Conversion\n",
        "We can use functions like `int()`, `float()`, and `str()` to convert from one type into another. Use them to complete the following tasks:\n",
        "1. Define a variable called `revenue` that is equal to price times quanitity. You can only use the strings that are already defined, the conversion functions above, and the `*` operator.\n",
        "2. Use `str()` to convert `revenue` into a string with a dollar sign in fron. Call this new variable `revenue_string` and print it.\n",
        "\n",
        "\n",
        "**Hint:** How can you remove the dollar sign before conversion?\n"
      ],
      "id": "8476f31e2c9c2da7"
    },
    {
      "metadata": {
        "id": "c0fe320082e8d0dd",
        "colab": {
          "base_uri": "https://localhost:8080/"
        },
        "outputId": "53f9a474-5d45-4ff9-a487-17169543dbfa"
      },
      "cell_type": "code",
      "source": [
        "# Exercise 4 Code\n",
        "price_string  = \"$7.50\" # don't edit\n",
        "quantity_string = \"10\" # don't edit\n",
        "\n",
        "# your code here\n",
        "price_string = \"7.50\"\n",
        "quantity_string = \"10\"\n",
        "price = float(price_string[1:])\n",
        "quantity_string = int(quantity_string)\n",
        "\n",
        "revenue = price * quantity_string\n",
        "revenue_string = \"$\" + str(revenue)\n",
        "print(revenue_string)"
      ],
      "id": "c0fe320082e8d0dd",
      "outputs": [
        {
          "output_type": "stream",
          "name": "stdout",
          "text": [
            "$5.0\n"
          ]
        }
      ],
      "execution_count": 2
    },
    {
      "metadata": {
        "id": "9571d4b7f5224303"
      },
      "cell_type": "markdown",
      "source": [
        "## Exercise 5 -- Modules and Very Basic Plotting\n",
        "Complete the following steps in the cells below:\n",
        "1. Import the `math` module and give it an alias of `mt`.\n",
        "2. Import the `matplotlib.pyplot` module and give it an alias of `plt`.\n",
        "3. Create a variable named `num_range` and set it equal to a range of numbers from 0 to 1000 (including 1000).\n",
        "4. Using `num_range` and a list comprehension, create a list called `sine_list` that is equal to `sin((pi/100) * x)` for every `x` in the range `num_range`. (**Hint:** sin and pi are objects from the math library.)\n",
        "5. Finally, using `plt`, `num_range`, and `sine_list`, generate a line plot."
      ],
      "id": "9571d4b7f5224303"
    },
    {
      "metadata": {
        "id": "d8495aeebf9b755f",
        "colab": {
          "base_uri": "https://localhost:8080/",
          "height": 472
        },
        "outputId": "50166140-a509-4560-aba0-de87a867870b"
      },
      "cell_type": "code",
      "source": [
        "# Exercise 5 Code\n",
        "import math as mt\n",
        "import matplotlib.pyplot as plt\n",
        "\n",
        "num_range = range(1001)\n",
        "\n",
        "sine_list = [mt.sin((mt.pi / 100) * x) for x in num_range]\n",
        "plt.plot(num_range, sine_list)\n",
        "plt.xlabel('x')\n",
        "plt.ylabel('sin(x)')\n",
        "plt.title('sin(x)')\n",
        "plt.show()"
      ],
      "id": "d8495aeebf9b755f",
      "outputs": [
        {
          "output_type": "display_data",
          "data": {
            "text/plain": [
              "<Figure size 640x480 with 1 Axes>"
            ],
            "image/png": "[encoded data removed]"
          },
          "metadata": {}
        }
      ],
      "execution_count": 12
    },
    {
      "metadata": {
        "id": "329bdb885f4a56c"
      },
      "cell_type": "code",
      "source": [
        ""
      ],
      "id": "329bdb885f4a56c",
      "outputs": [],
      "execution_count": null
    }
  ],
  "metadata": {
    "kernelspec": {
      "display_name": "Python 3",
      "language": "python",
      "name": "python3"
    },
    "language_info": {
      "codemirror_mode": {
        "name": "ipython",
        "version": 2
      },
      "file_extension": ".py",
      "mimetype": "text/x-python",
      "name": "python",
      "nbconvert_exporter": "python",
      "pygments_lexer": "ipython2",
      "version": "2.7.6"
    },
    "colab": {
      "provenance": []
    }
  },
  "nbformat": 4,
  "nbformat_minor": 5
}