{
  "cells": [
    {
      "cell_type": "markdown",
      "id": "fea96cfa",
      "metadata": {
        "id": "fea96cfa"
      },
      "source": [
        "# Lab Assignment 1 -- Fundamentals\n",
        "In this lab, you will complete a series of exercises related to the lecture material on coding fundamentals and collections.\n",
        "\n",
        "Since this is the first lab that involves coding, we will begin with an exercise related to Jupyter notebook functionality."
      ]
    },
    {
      "cell_type": "markdown",
      "id": "5b0e6098",
      "metadata": {
        "id": "5b0e6098"
      },
      "source": [
        "## Exercise 1 -- Jupyter Markdown Basics\n",
        "Jupyter notebooks allows cells to be interpreted as either code or Markdown. Markdown is a lightweight formatting language. In fact, what you're reading right now is written in Markdown. The syntax is very simple and a reference for common commands can be found [here](https://www.markdownguide.org/cheat-sheet/). Use this reference guide to complete the following steps:\n",
        "\n",
        "1. Create a cell below this one by using the insert drop down menu or by clicking on the left of this box (so the side bar turns blue) and tapping the <kbd>b</kbd> key.\n",
        "2. Make the cell a Markdown cell by clicking on it and using the drop down menu above.\n",
        "3. Using the reference guide, find out how to create the **smallest** heading  and use it give the cell you create a header of \"Solution to Exercise 1\" without the quotes.\n",
        "4. Using the reference guide, figure out how to make ordered and unordered lists. Using an unordered list, list three of the things you hope to learn from this class.\n",
        "5. Sometimes, we want to reference specific code or code objects in the text of Markdown. Markdown allows us to format such reference so that it appears in a gray box (e.g. `x=3`). Using the reference guide, figure out how to format code and format  x = 3, so it has a gray box around it in the cell you created."
      ]
    },
    {
      "cell_type": "markdown",
      "source": [
        "######Solution to Exercise 1\n",
        "- Learn what and how basic python works\n",
        "- Learn how to deal with datasets\n",
        "- Learn how to propose a project with datas\n",
        "\n",
        "`x = 3`"
      ],
      "metadata": {
        "id": "gsDuNZiKzoTP"
      },
      "id": "gsDuNZiKzoTP"
    },
    {
      "cell_type": "markdown",
      "source": [
        "Highlighted x=3 seems like `x = 3`"
      ],
      "metadata": {
        "id": "MMR9YzJl1io2"
      },
      "id": "MMR9YzJl1io2"
    },
    {
      "cell_type": "markdown",
      "id": "7835167d",
      "metadata": {
        "id": "7835167d"
      },
      "source": [
        "## Exercise 2 -- Basic Variable Assignment\n",
        "Complete the following steps in the cells below.\n",
        "1. Generate a variable called `x_flt` and set it equal to 3.0. Print its type.\n",
        "2. Generate a variable called `x_int` and set it equal to 3. Print its type.\n",
        "3. Generate a variable called  `x_str` and set it equal to \"3\". Print its type.\n",
        "4. Which of these two variables can you add together with the `+` operator? Why? Answer in the Markdown cell below."
      ]
    },
    {
      "cell_type": "code",
      "id": "8c80cd8e",
      "metadata": {
        "colab": {
          "base_uri": "https://localhost:8080/"
        },
        "id": "8c80cd8e",
        "outputId": "f35fa8a9-f103-4715-c9d8-6e60b061eff1"
      },
      "source": [
        "# Exercise 2 Code\n",
        "x_flt=3.0\n",
        "x_int=3\n",
        "x_str=\"3\"\n",
        "print(x_flt)\n",
        "print(x_int)\n",
        "print(x_str)\n"
      ],
      "outputs": [
        {
          "output_type": "stream",
          "name": "stdout",
          "text": [
            "3.0\n",
            "3\n",
            "3\n"
          ]
        }
      ],
      "execution_count": 6
    },
    {
      "cell_type": "markdown",
      "id": "70b8adf0",
      "metadata": {
        "id": "70b8adf0"
      },
      "source": [
        "### Response to 2.4\n",
        "\n",
        "`x_flt` can be added together with `x_int`, but cannot be added together with `x_str`.\n",
        "\n",
        "Because `x_flt` and `x_int` are different types from `x_str`."
      ]
    },
    {
      "cell_type": "markdown",
      "id": "9db99652",
      "metadata": {
        "id": "9db99652"
      },
      "source": [
        "## Exercise 3 -- Variable Reassignment\n",
        "Complete the following steps in the cells below.\n",
        "1. Assign `x` equal to `\"good\"`\n",
        "2. Assign `y` equal to `x`\n",
        "3. Reassign `x` to `\"bad\"`\n",
        "4. Use `print` to print `y`\n",
        "5. Does the print statement print \"good\" or a \"bad\"? Did changing `x` to \"bad\" affect anything? Why or why not? Answer in the Markdown cell below."
      ]
    },
    {
      "cell_type": "code",
      "id": "9c154552",
      "metadata": {
        "scrolled": true,
        "colab": {
          "base_uri": "https://localhost:8080/"
        },
        "id": "9c154552",
        "outputId": "86b66d1d-e3e4-4b41-f3ee-c1c5535d41b1"
      },
      "source": [
        "from re import X\n",
        "# Exercise 3 Code\n",
        "x = \"good\"\n",
        "y = x\n",
        "x = \"bad\"\n",
        "print(y)"
      ],
      "outputs": [
        {
          "output_type": "stream",
          "name": "stdout",
          "text": [
            "good\n"
          ]
        }
      ],
      "execution_count": 12
    },
    {
      "cell_type": "markdown",
      "id": "b24737e5",
      "metadata": {
        "id": "b24737e5"
      },
      "source": [
        "### Response to 3.5\n",
        "\n",
        "Here y is still good. Because in this block, `x` is firstly assigned as \"good\", and `y` is firstly assigned as `y=x`. Although `x` is reassigned as \"bad\" in the next line, `y` has not been reassigned, so `y` is still assigned as `y = x = bad`."
      ]
    },
    {
      "cell_type": "markdown",
      "id": "4700d845",
      "metadata": {
        "id": "4700d845"
      },
      "source": [
        "## Exercise 4 -- Basic Arithmetic\n",
        "Generate the following variables with the corresponding value in the cell below:\n",
        "1. `x` equal to 20\n",
        "2. `y` equal to 10\n",
        "3. `z1` equal to the sum of `x` and `y`\n",
        "4. `z2` equal to `x` minus `y`\n",
        "5. `z3` equal to `x` times `y`\n",
        "6. `z4` equal to `x` divided by `y`\n",
        "\n",
        "Answer the following question in the Markdown Cell Below\n",
        "\n",
        "7. Use `type()` to deterimine which of these variables is a floating point number? Why is this the case?"
      ]
    },
    {
      "cell_type": "code",
      "id": "564b49ec",
      "metadata": {
        "colab": {
          "base_uri": "https://localhost:8080/"
        },
        "id": "564b49ec",
        "outputId": "c42f9f73-b0f4-4de9-e6ee-86412da63b21"
      },
      "source": [
        "# Exercise 4 Code\n",
        "x = 20\n",
        "y = 10\n",
        "z1 = x + y\n",
        "z2 = x - y\n",
        "z3 = x * y\n",
        "z4 = x / y\n",
        "print(z1)\n",
        "print(z2)\n",
        "print(z3)\n",
        "print(z4)"
      ],
      "outputs": [
        {
          "output_type": "stream",
          "name": "stdout",
          "text": [
            "30\n",
            "10\n",
            "200\n",
            "2.0\n"
          ]
        }
      ],
      "execution_count": 19
    },
    {
      "cell_type": "code",
      "source": [
        "print(type(x))\n",
        "print(type(y))\n",
        "print(type(z1))\n",
        "print(type(z2))\n",
        "print(type(z3))\n",
        "print(type(z4))"
      ],
      "metadata": {
        "colab": {
          "base_uri": "https://localhost:8080/"
        },
        "id": "8u8Z88Rk-xPU",
        "outputId": "965dd518-2868-48a8-cefe-bbbe5f9c2b0c"
      },
      "id": "8u8Z88Rk-xPU",
      "execution_count": 20,
      "outputs": [
        {
          "output_type": "stream",
          "name": "stdout",
          "text": [
            "<class 'int'>\n",
            "<class 'int'>\n",
            "<class 'int'>\n",
            "<class 'int'>\n",
            "<class 'int'>\n",
            "<class 'float'>\n"
          ]
        }
      ]
    },
    {
      "cell_type": "markdown",
      "id": "ac2063f9",
      "metadata": {
        "id": "ac2063f9"
      },
      "source": [
        "### Response to 4.7\n",
        "\n",
        "`z4` is a floating point number. Calculations in `z1`, `z2`, `z3` are doing between indexes. But in Python, the / operator always performs floating-point division, even if the operands are integers and the result is a whole number."
      ]
    },
    {
      "metadata": {
        "id": "26e05e804aba213c"
      },
      "cell_type": "code",
      "source": [],
      "id": "26e05e804aba213c",
      "outputs": [],
      "execution_count": null
    },
    {
      "metadata": {
        "id": "2024ad69c823f131"
      },
      "cell_type": "markdown",
      "source": [
        "## Exercise 5 -- String Formatting\n",
        "Complete the following steps in the cell below:\n",
        "1. Define a list called `cities` that contains the names of three cities you would like to visit.\n",
        "2. Define a corresponding list called `countries` where an entry is the country of each of those three cities.\n",
        "3. Using these lists and f strings, print a sentence that says what country a city is in for each city in your list\n",
        "4. Now do the same thing again but use the `.format()` method instead of f strings."
      ],
      "id": "2024ad69c823f131"
    },
    {
      "metadata": {
        "colab": {
          "base_uri": "https://localhost:8080/"
        },
        "id": "4bb3c5643a0ee99e",
        "outputId": "58067a04-24df-4147-dd90-af25375923c5"
      },
      "cell_type": "code",
      "source": [
        "# Exercise 5 Code\n",
        "city = [\"Vancouver\", \"Tokyo\", \"London\"]\n",
        "country = [\"Canada\", \"Japan\", \"England\"]\n",
        "string_1 = \"\"\n",
        "for c, ctr in zip(city, country):\n",
        "    string_1 += f\"{c} is in {ctr}\\n\"\n",
        "print(string_1)"
      ],
      "id": "4bb3c5643a0ee99e",
      "outputs": [
        {
          "output_type": "stream",
          "name": "stdout",
          "text": [
            "Vancouver is in Canada\n",
            "Tokyo is in Japan\n",
            "London is in England\n",
            "\n"
          ]
        }
      ],
      "execution_count": 23
    },
    {
      "cell_type": "code",
      "source": [
        "city = [\"Vancouver\", \"Tokyo\", \"London\"]\n",
        "country = [\"Canada\", \"Japan\", \"England\"]\n",
        "string_2 = \"\"\n",
        "for c, ctr in zip(city, country):\n",
        "    string_2 += \"{} is in {}\\n\".format(c, ctr)\n",
        "print(string_2)"
      ],
      "metadata": {
        "colab": {
          "base_uri": "https://localhost:8080/"
        },
        "id": "5H0R2DkeYvWh",
        "outputId": "94142852-4c2c-48d2-e09e-543f85bf8f43"
      },
      "id": "5H0R2DkeYvWh",
      "execution_count": 20,
      "outputs": [
        {
          "output_type": "stream",
          "name": "stdout",
          "text": [
            "Vancouver is in Canada\n",
            "Tokyo is in Japan\n",
            "London is in England\n",
            "\n"
          ]
        }
      ]
    },
    {
      "metadata": {
        "id": "fce68f68177b1995"
      },
      "cell_type": "markdown",
      "source": [
        "## Exercise 6 -- String Concatenation\n",
        "Complete the following steps in the cell below:\n",
        "1. Assign `b` to be equal to \"b\"\n",
        "2. Assign `a` to be equal to \"a\"\n",
        "3. Assign `n` to be equal to \"n\"\n",
        "4. Using these variables, `+`, and `print`, print the the word \"banana\""
      ],
      "id": "fce68f68177b1995"
    },
    {
      "metadata": {
        "colab": {
          "base_uri": "https://localhost:8080/"
        },
        "id": "7cd33ad42612cc2",
        "outputId": "d579183d-d4fa-4af7-f9a0-a41231df4bc3"
      },
      "cell_type": "code",
      "source": [
        "# Exercise 6 Code\n",
        "b = \"b\"\n",
        "a = \"a\"\n",
        "n = \"n\"\n",
        "print(b + a + n + a + n + a)\n"
      ],
      "id": "7cd33ad42612cc2",
      "outputs": [
        {
          "output_type": "stream",
          "name": "stdout",
          "text": [
            "banana\n"
          ]
        }
      ],
      "execution_count": 5
    },
    {
      "metadata": {
        "id": "293a4c9fc698f9d9"
      },
      "cell_type": "markdown",
      "source": [
        "## Exercise 7 -- Boolean Variable Keywords\n",
        "Assign `a`, `b`,`c`, and `d`, so that every print statement below is true.\n",
        "\n",
        "\n",
        "Afterwards, answer the following quesiton in the Markdown cell below:\n",
        "\n",
        "Is the configuration of `a`, `b`,`c`, and `d` that makes both statements true unique? Why or why not? If it isn't unique, add another print statement to the list to rule out other configurations?"
      ],
      "id": "293a4c9fc698f9d9"
    },
    {
      "metadata": {
        "id": "6a5495628c88bf25"
      },
      "cell_type": "code",
      "source": [
        "# Exercise 7 Code\n",
        "a = True\n",
        "b = False\n",
        "c = False\n",
        "d = False"
      ],
      "id": "6a5495628c88bf25",
      "outputs": [],
      "execution_count": 18
    },
    {
      "metadata": {
        "colab": {
          "base_uri": "https://localhost:8080/"
        },
        "id": "5c6037cdfe69c6aa",
        "outputId": "1ba910fc-6224-473f-ce0f-581fd7e8cf08"
      },
      "cell_type": "code",
      "source": [
        "# Uncomment the lines below when you have defined the variables to check your results\n",
        "print(((a and b) or (c and d)) == False)\n",
        "print(((a or c) and (b or d)) == False)\n",
        "print(a and (not b) and (not c) and (not d))"
      ],
      "id": "5c6037cdfe69c6aa",
      "outputs": [
        {
          "output_type": "stream",
          "name": "stdout",
          "text": [
            "True\n",
            "True\n",
            "False\n"
          ]
        }
      ],
      "execution_count": 19
    },
    {
      "cell_type": "markdown",
      "source": [
        "If we want to make all the statements true, the configuration of `a`, `b`, `c`, and `d` is unique.\n",
        "\n",
        "For the first line, to make it true, `(a and b) or (c and d)` has to be false.\n",
        "For the next line, to make it true, `(a or c) and (b or d)` has to be false too.\n",
        "And for the last line, to make it true, `a and (not b) and (not c) and (not d)` has to be true.\n",
        "\n",
        "To make all these statements true, the configurations has to be unique."
      ],
      "metadata": {
        "id": "3dLLAF-4iboh"
      },
      "id": "3dLLAF-4iboh"
    },
    {
      "metadata": {
        "id": "30b05eee2d5938e9"
      },
      "cell_type": "code",
      "source": [],
      "id": "30b05eee2d5938e9",
      "outputs": [],
      "execution_count": null
    }
  ],
  "metadata": {
    "kernelspec": {
      "display_name": "Python 3 (ipykernel)",
      "language": "python",
      "name": "python3"
    },
    "language_info": {
      "codemirror_mode": {
        "name": "ipython",
        "version": 3
      },
      "file_extension": ".py",
      "mimetype": "text/x-python",
      "name": "python",
      "nbconvert_exporter": "python",
      "pygments_lexer": "ipython3",
      "version": "3.9.15"
    },
    "colab": {
      "provenance": []
    }
  },
  "nbformat": 4,
  "nbformat_minor": 5
}