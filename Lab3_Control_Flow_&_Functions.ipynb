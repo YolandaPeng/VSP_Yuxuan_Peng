{
  "cells": [
    {
      "cell_type": "markdown",
      "id": "b557d379",
      "metadata": {
        "id": "b557d379"
      },
      "source": [
        "# Lab Assignment 3 -- Control Flow & Functions\n",
        "In this lab, you will complete a series of exercises related to the lecture material on control flow and functions."
      ]
    },
    {
      "cell_type": "markdown",
      "id": "f2d3f549",
      "metadata": {
        "id": "f2d3f549"
      },
      "source": [
        "## Exercise 1a -- Divisible by n\n",
        "Define a function called `divisible_by_n()` that takes two inputs:\n",
        "- a range\n",
        "- a single integer (the n)\n",
        "\n",
        "By default, the single integer argument should be equal to 2 if only one argument is provided.\n",
        "\n",
        "You function should return a list of all numbers in the input range that are divisible by `n`.\n",
        "\n",
        "Include a function description for your function using docstrings.\n",
        "\n",
        "**Hints**\n",
        "- You can use `%` (for modular arithmetic) or you can use `math.round()` to check if a number is divisible by 3.\n",
        "- Think about whether you should to use a `for` loop or a `while` loop."
      ]
    },
    {
      "cell_type": "code",
      "id": "a6113693",
      "metadata": {
        "id": "a6113693"
      },
      "source": [
        "# Exercise 1a\n",
        "def divisible_by_n(num_range, n = 3):\n",
        "    divis_list = []\n",
        "    for num in num_range:\n",
        "        if num % n == 0:\n",
        "            divis_list.append(num)\n",
        "    return divis_list\n"
      ],
      "outputs": [],
      "execution_count": 1
    },
    {
      "cell_type": "code",
      "id": "c8c3a0a6",
      "metadata": {
        "colab": {
          "base_uri": "https://localhost:8080/"
        },
        "id": "c8c3a0a6",
        "outputId": "978098e6-1bbb-4b5a-fa95-61a536d9b7c1"
      },
      "source": [
        "print (divisible_by_n(range(100)))"
      ],
      "outputs": [
        {
          "output_type": "stream",
          "name": "stdout",
          "text": [
            "[0, 3, 6, 9, 12, 15, 18, 21, 24, 27, 30, 33, 36, 39, 42, 45, 48, 51, 54, 57, 60, 63, 66, 69, 72, 75, 78, 81, 84, 87, 90, 93, 96, 99]\n"
          ]
        }
      ],
      "execution_count": 2
    },
    {
      "cell_type": "markdown",
      "id": "d8d77670",
      "metadata": {
        "id": "d8d77670"
      },
      "source": [
        "## Exercise 1b -- Big Lists\n",
        "`%timeit` in the code below is what is known as an IPython magic function. IPython stands for Interactive Python and simply refers to a version of the Python (and other coding languages) environment that has more functionality than the standard one. In particular, this functionality makes Python easier to interact with if we want to explore data, test functions, etc. Jupyter is built on IPython.\n",
        "\n",
        "`%timeit` runs the code that follows it many times to get a sense of how long the code takes to run. Below, we use it to time how long `divide_by_n` takes on two ranges of different lengths.\n",
        "\n",
        "Run the cell and answer the following questions in a Markdown cell:\n",
        "1. Which range takes longer to get through? By how many times longer does it take? Does this make sense to you? What does it say about how the time of computation is affected by the length of the range?\n",
        "2. Would your function work with a list instead of a range? Why or why not?\n",
        "\n",
        "**Hint:** $\\mu s$ means microseconds"
      ]
    },
    {
      "cell_type": "code",
      "id": "3de20bc7",
      "metadata": {
        "colab": {
          "base_uri": "https://localhost:8080/"
        },
        "id": "3de20bc7",
        "outputId": "93aeb68e-6b5e-4e37-cc7f-4bf821dfecb4"
      },
      "source": [
        "# Exercise 1b -- don't edit this cell\n",
        "%timeit divisible_by_n(range(1_001), 3)\n",
        "%timeit divisible_by_n(range(10_001), 3)"
      ],
      "outputs": [
        {
          "output_type": "stream",
          "name": "stdout",
          "text": [
            "278 µs ± 78.7 µs per loop (mean ± std. dev. of 7 runs, 1000 loops each)\n",
            "2.45 ms ± 453 µs per loop (mean ± std. dev. of 7 runs, 100 loops each)\n"
          ]
        }
      ],
      "execution_count": 3
    },
    {
      "cell_type": "markdown",
      "id": "d6fd32c2",
      "metadata": {
        "id": "d6fd32c2"
      },
      "source": [
        "### Response to 1b\n",
        "\n",
        "1. `range(10_001), 3` takes more time to run. Because in `range(10_001), 3` it has more elements, so in the running process it needs more time to finish.\n",
        "\n",
        "2. Yes. Because the function works with `for`. When the function work, it works on every element in the list/range, so no matter it is `range` or `list`, it will work."
      ]
    },
    {
      "cell_type": "markdown",
      "id": "34af43ec",
      "metadata": {
        "id": "34af43ec"
      },
      "source": [
        "## Exercise 2 -- Function Objects vs. Function Calls\n",
        "`sum()` is a function that can take some iterables and return the sum of elements in that iterable. In the Markdown cell below, answer the following questions.\n",
        "1. What types is `sum`?\n",
        "2. What type is `sum([1,2,3])`? How about `sum([1,2.0,3])`?\n",
        "3. Are the types of these three objects the same or different? Why?\n",
        "4. What is the type of `print(\"hello\")`? Why?\n"
      ]
    },
    {
      "cell_type": "code",
      "id": "ce7e11cd",
      "metadata": {
        "colab": {
          "base_uri": "https://localhost:8080/"
        },
        "id": "ce7e11cd",
        "outputId": "027e2832-a2d9-44ed-f3df-99f1a8b0777d"
      },
      "source": [
        "# If needed, you can call the type function on these objects to help answer the question\n",
        "print(type(sum))\n",
        "print(type(sum([1,2,3])))\n",
        "print(type(sum([1,2.0,3])))\n",
        "print(type(print(\"hello\")))"
      ],
      "outputs": [
        {
          "output_type": "stream",
          "name": "stdout",
          "text": [
            "<class 'builtin_function_or_method'>\n",
            "<class 'int'>\n",
            "<class 'float'>\n",
            "hello\n",
            "<class 'NoneType'>\n"
          ]
        }
      ],
      "execution_count": 4
    },
    {
      "cell_type": "markdown",
      "id": "708ca789",
      "metadata": {
        "id": "708ca789"
      },
      "source": [
        "### Reponse to Exercise 2\n",
        "1. What types is `sum`?\n",
        "\n",
        "  Type of `sum` is `builtin_function_or_method`\n",
        "2. What type is `sum([1,2,3])`? How about `sum([1,2.0,3])`?\n",
        "\n",
        "  `sum([1,2,3])` is `int`, and `sum(1,2.0,3])` is `float`.\n",
        "3. Are the types of these three objects the same or different? Why?\n",
        "\n",
        "  They are different. The type of `sum([1,2,3])` is `int`, while the type of sum([1,2.0,3]) is float. This difference occurs because Python’s sum function promotes the result to the type that can use in all input values, which means it returns a float if any element in the iterable is a float.\n",
        "4. What is the type of `print(\"hello\")`? Why?\n",
        "  \n",
        "  The type of `print(\"hello\")` is `NoneType`. The `print` function in Python does not return a value; it returns None.\n"
      ]
    },
    {
      "cell_type": "markdown",
      "id": "18d0aa8e",
      "metadata": {
        "id": "18d0aa8e"
      },
      "source": [
        "# Exercise 3\n",
        "Exercise 3 is a series of six questions\n",
        "## Exercise 3a -- Factorial Function\n",
        "The factorial of an integer n (denoted n! in mathematics) is equal to itself multipled by all of the integers smaller than n. That is\n",
        "$$\n",
        "n! = n * (n-1) * (n-2) *...* 2 * 1\n",
        "$$\n",
        "where $0!$ is defined to be 1.\n",
        "\n",
        "The module `math` already has a factorial function, but you are going to build your own. In the cell below, define a function called `custom_factorial` that takes an integer as an input and returns the factorial of that integer. You must use a loop to calculate the factorial."
      ]
    },
    {
      "cell_type": "code",
      "id": "a6ae690f",
      "metadata": {
        "id": "a6ae690f"
      },
      "source": [
        "# Exercise 3a Code\n",
        "def custom_factorial(n):\n",
        "    out = 1\n",
        "    for num in range(1,n+1):\n",
        "        out = out * num\n",
        "    return out"
      ],
      "outputs": [],
      "execution_count": 5
    },
    {
      "cell_type": "code",
      "id": "bf8b5f15",
      "metadata": {
        "colab": {
          "base_uri": "https://localhost:8080/"
        },
        "id": "bf8b5f15",
        "outputId": "6be510fa-c0f8-4005-94cf-30c268a9b1d6"
      },
      "source": [
        "custom_factorial(5)"
      ],
      "outputs": [
        {
          "output_type": "execute_result",
          "data": {
            "text/plain": [
              "120"
            ]
          },
          "metadata": {},
          "execution_count": 6
        }
      ],
      "execution_count": 6
    },
    {
      "cell_type": "markdown",
      "id": "6a76366f",
      "metadata": {
        "id": "6a76366f"
      },
      "source": [
        "## Exercise 3b -- Checking Your Work\n",
        "Using the `math` module's `factorial` function and a comparison operator, check that your function works for 10!.\n"
      ]
    },
    {
      "cell_type": "code",
      "id": "f52c5077",
      "metadata": {
        "colab": {
          "base_uri": "https://localhost:8080/"
        },
        "id": "f52c5077",
        "outputId": "caac1151-83e2-424e-d503-94f774cdb8a4"
      },
      "source": [
        "# Exercise 3b Code\n",
        "import math\n",
        "math.factorial(10) == custom_factorial(10)"
      ],
      "outputs": [
        {
          "output_type": "execute_result",
          "data": {
            "text/plain": [
              "True"
            ]
          },
          "metadata": {},
          "execution_count": 7
        }
      ],
      "execution_count": 7
    },
    {
      "cell_type": "markdown",
      "id": "d6933761",
      "metadata": {
        "id": "d6933761"
      },
      "source": [
        "## Exercise 3c -- Nondecreasing Functions\n",
        "A function $f$ is nondecreasing when $f(x) \\geq f(y)$  if and only if $x \\geq y$. Using `matplotlib.pyplot`, and your function plot the factorial function for $n = 0, 1, 2, 3, ..., 20$. You can plot a scatter plot or a line plot.\n",
        "\n",
        "In the Markdown cell below, give another example of a nondecreasing function.\n",
        "\n",
        "**Hint:** Use a a list comprehension."
      ]
    },
    {
      "cell_type": "code",
      "id": "297f61d9",
      "metadata": {
        "colab": {
          "base_uri": "https://localhost:8080/",
          "height": 463
        },
        "id": "297f61d9",
        "outputId": "cf2eb3e4-b58c-4b90-dc5e-b13c5b4f98bd"
      },
      "source": [
        "# Exercise 3c Code\n",
        "import matplotlib.pyplot as plt\n",
        "x_coordinates = range(0,21)\n",
        "fact_values = [custom_factorial(x) for x in x_coordinates]\n",
        "plt.plot(x_coordinates, fact_values)"
      ],
      "outputs": [
        {
          "output_type": "execute_result",
          "data": {
            "text/plain": [
              "[<matplotlib.lines.Line2D at 0x79744816fa60>]"
            ]
          },
          "metadata": {},
          "execution_count": 8
        },
        {
          "output_type": "display_data",
          "data": {
            "text/plain": [
              "<Figure size 640x480 with 1 Axes>"
            ],
            "image/png": "[encoded data removed]"
          },
          "metadata": {}
        }
      ],
      "execution_count": 8
    },
    {
      "cell_type": "markdown",
      "id": "a97e10da",
      "metadata": {
        "id": "a97e10da"
      },
      "source": [
        "### Response to Exercise 3c\n",
        "\n",
        "y = f(x). f(x)= x"
      ]
    },
    {
      "cell_type": "markdown",
      "id": "9f9b870c",
      "metadata": {
        "id": "9f9b870c"
      },
      "source": [
        "## Exercise 3d -- Finding the Smallest Integer\n",
        "For a generic nondecreasing function $f$, we might be interested in finding the smallest integer $n$ such that $f(n)$ is greater than or equal to some constant $c$. In the lecture we did this with $f(n) = n^2$, which is nondecreasing for $n \\geq 0$, and $c = 12345$.\n",
        "\n",
        "Now, define a function calld `find_smallest_int` that takes a starting value `start`, a function `f`, and a constant `c` as inputs. Recognizing that these correspond to the values above, have your function return two values: the smallest integer $n$ such that $f(n) \\geq c$ and the value of $f(n)$ for that integer.\n",
        "\n",
        "**Hint:** If you're stuck, try looking at the lecture."
      ]
    },
    {
      "cell_type": "code",
      "id": "025521ae",
      "metadata": {
        "id": "025521ae"
      },
      "source": [
        "# Exercise 3d Code\n",
        "def find_smallest_int(start, f, c):\n",
        "    while f(start) < c:\n",
        "        start += 1\n",
        "\n",
        "    return start, f(start)"
      ],
      "outputs": [],
      "execution_count": 9
    },
    {
      "cell_type": "code",
      "id": "6622a652",
      "metadata": {
        "colab": {
          "base_uri": "https://localhost:8080/"
        },
        "id": "6622a652",
        "outputId": "237a4b22-bd4f-4ed1-e194-e48fa66e08c6"
      },
      "source": [
        "find_smallest_int(10, lambda x: x** 2, 400)"
      ],
      "outputs": [
        {
          "output_type": "execute_result",
          "data": {
            "text/plain": [
              "(20, 400)"
            ]
          },
          "metadata": {},
          "execution_count": 10
        }
      ],
      "execution_count": 10
    },
    {
      "cell_type": "markdown",
      "id": "c95a31db",
      "metadata": {
        "id": "c95a31db"
      },
      "source": [
        "## Exercise 3e -- Plugging in Your Function\n",
        "Now, use `find_smallest_int` and `custom_factorial` to find the smallest $n$ such that $n! \\geq 12,345$. Use a starting value of 0. Check your answer as we did in the lecture.\n"
      ]
    },
    {
      "cell_type": "code",
      "id": "fbb8967e",
      "metadata": {
        "colab": {
          "base_uri": "https://localhost:8080/"
        },
        "id": "fbb8967e",
        "outputId": "5f717171-fa44-48c0-cd04-a4bd651f06a6"
      },
      "source": [
        "# Exercise 3e Code\n",
        "find_smallest_int(0, custom_factorial, 12345)"
      ],
      "outputs": [
        {
          "output_type": "execute_result",
          "data": {
            "text/plain": [
              "(8, 40320)"
            ]
          },
          "metadata": {},
          "execution_count": 11
        }
      ],
      "execution_count": 11
    },
    {
      "cell_type": "markdown",
      "id": "c91fbc7a",
      "metadata": {
        "id": "c91fbc7a"
      },
      "source": [
        "## Exercise 3f -- Increasing n\n",
        "Now we wil time the speed and output of `find_smallest_int` with smaller and larger values of $c$ and two different functions: `custom_factorial` and and a lambda function that sqaures a single input.\n",
        "\n",
        "Answer the folowing questions in the Markdown cell below:\n",
        "1. Which function takes longer to run for a fixed value of $c$. Why do you think this is?\n",
        "2. What is the ratio between runtimes when fixing the function and varying $c$ from 1,000 to 10,000. How about 10,000 to 100,000? Compare this ratio to the ratio of smallest integers for those runs. Are they similar? Why or why not?  You will want to write some code to compare these values.\n"
      ]
    },
    {
      "cell_type": "code",
      "id": "a6081adb",
      "metadata": {
        "colab": {
          "base_uri": "https://localhost:8080/"
        },
        "id": "a6081adb",
        "outputId": "d52886e6-d1af-4351-9687-4c62b2276182"
      },
      "source": [
        "# Exercise 1b -- don't edit this cell\n",
        "%timeit find_smallest_int(0, custom_factorial, 1_000)\n",
        "%timeit find_smallest_int(0, custom_factorial, 10_000)\n",
        "%timeit find_smallest_int(0, custom_factorial, 100_000)\n",
        "\n",
        "\n",
        "\n",
        "%timeit find_smallest_int(0, lambda x: x ** 2, 1_000)\n",
        "%timeit find_smallest_int(0, lambda x: x ** 2, 10_000)\n",
        "%timeit find_smallest_int(0, lambda x: x ** 2, 100_000)"
      ],
      "outputs": [
        {
          "output_type": "stream",
          "name": "stdout",
          "text": [
            "9.01 µs ± 1.15 µs per loop (mean ± std. dev. of 7 runs, 100000 loops each)\n",
            "7.75 µs ± 1.78 µs per loop (mean ± std. dev. of 7 runs, 100000 loops each)\n",
            "13.6 µs ± 3.96 µs per loop (mean ± std. dev. of 7 runs, 100000 loops each)\n",
            "20.4 µs ± 6.5 µs per loop (mean ± std. dev. of 7 runs, 100000 loops each)\n",
            "41.1 µs ± 5.03 µs per loop (mean ± std. dev. of 7 runs, 10000 loops each)\n",
            "170 µs ± 41.6 µs per loop (mean ± std. dev. of 7 runs, 10000 loops each)\n"
          ]
        }
      ],
      "execution_count": 12
    },
    {
      "cell_type": "code",
      "id": "5e96be8e",
      "metadata": {
        "scrolled": false,
        "id": "5e96be8e"
      },
      "source": [
        "# Compare ratios here\n"
      ],
      "outputs": [],
      "execution_count": 13
    },
    {
      "cell_type": "code",
      "id": "e149467c",
      "metadata": {
        "id": "e149467c"
      },
      "source": [],
      "outputs": [],
      "execution_count": 13
    },
    {
      "cell_type": "markdown",
      "id": "0429212c",
      "metadata": {
        "id": "0429212c"
      },
      "source": [
        "### Response to Exercise 3f\n",
        "\n",
        "The custom_factorial function generally takes longer to run compared to the lambda function that squares a single input for a fixed value of  c . This is because calculating the factorial involves a series of multiplications that grows factorially with the input size, making it computationally expensive as  c  increases. In contrast, the lambda function that squares an input performs a single multiplication, which is much faster and more straightforward.\n",
        "\n"
      ]
    },
    {
      "cell_type": "markdown",
      "id": "2987b626",
      "metadata": {
        "id": "2987b626"
      },
      "source": [
        "## Exercise 4 -- Fibonacci Sequence\n",
        "The Fibonacci Sequence is an infinite sequence of integers $X_0, X_1, X_2, X_3, ...$ defined as below\n",
        "\n",
        "$$\n",
        "X_0 = 0\n",
        "$$\n",
        "$$\n",
        "X_1 = 1\n",
        "$$\n",
        "$$\n",
        "\\hspace{3.66cm}X_t = X_{t-1} + X_{t-2} \\text{ for } t \\geq 2\n",
        "$$\n",
        "\n",
        "Below define a function called `fibo_seq` that takes $t$ as an input and returns $X_t$, the $t$-th element of the Fibonacci Sequence.\n"
      ]
    },
    {
      "cell_type": "code",
      "id": "af4f720b",
      "metadata": {
        "id": "af4f720b"
      },
      "source": [
        "## Exercise 4 Code\n",
        "def fibo_seq(t):\n",
        "    x = 0\n",
        "    if t == 0:\n",
        "        return 0\n",
        "    if t == 1:\n",
        "        return 1\n",
        "    xtm2 = 0\n",
        "    xtm1 = 1\n",
        "    for t in range(2, t+1):\n",
        "        x = xtm1 + xtm2\n",
        "        xtm2 = xtm1\n",
        "        xtm1 = x\n",
        "\n",
        "    return x\n",
        "\n"
      ],
      "outputs": [],
      "execution_count": 14
    },
    {
      "cell_type": "code",
      "id": "76c3597e",
      "metadata": {
        "id": "76c3597e"
      },
      "source": [],
      "outputs": [],
      "execution_count": 14
    },
    {
      "cell_type": "markdown",
      "id": "10cd6fbc",
      "metadata": {
        "id": "10cd6fbc"
      },
      "source": [
        "## Exercise 5 -- Palindrome Detector\n",
        "A palindrome is a word or phrase that is spelled the same backwards as it is forwards (ignoring spaces). Create a function called `is_palindrome` that takes a list of strings and returns a list of Boolean variables that indicate whether the respective string is a palindrome or not. **Ignore capitalization and spaces**.\n",
        "\n",
        "When you're ready, test your function out on the cell below where `palindromes` and `nonpalindromes` are defined. Your function should return `[True, True, True, True, True]` for the former and `[False, False, False]` for the latter.\n",
        "\n",
        "\n",
        "**Hints**\n",
        "- A method will help you get rid of the white space\n",
        "- Look up on Google how to reverse a string as the reverse method only exists for lists"
      ]
    },
    {
      "cell_type": "code",
      "id": "fa2d5b1a",
      "metadata": {
        "id": "fa2d5b1a"
      },
      "source": [
        "# Exercise 5 -- create is_palindrome function here\n",
        "def is_palindrome(word_list):\n",
        "    palindrome_list = []\n",
        "    for word in word_list:\n",
        "        word = word.replace(\" \", \"\")\n",
        "        word = word.lower()\n",
        "        if word == word[::-1]:\n",
        "            palindrome_list.append(True)\n",
        "        else:\n",
        "            palindrome_list.append(False)\n",
        "    return_palindrome = palindrome_list\n"
      ],
      "outputs": [],
      "execution_count": 17
    },
    {
      "cell_type": "code",
      "id": "2334af93",
      "metadata": {
        "id": "2334af93",
        "colab": {
          "base_uri": "https://localhost:8080/"
        },
        "outputId": "cb445868-e17e-4ee9-eadf-59ffbb35e4f9"
      },
      "source": [
        "# Run this cell when you're ready -- do not edit it\n",
        "palindromes = [\"Radar\", \"Taco cat\", \"Stressed Desserts\", \"no Lemon no melon\", \"!??!!??!\"]\n",
        "nonpalindromes = [\"Hello World\", \"VSP\", \"Vancouver Canada\"]\n",
        "\n",
        "print(is_palindrome(palindromes))\n",
        "is_palindrome(nonpalindromes)"
      ],
      "outputs": [
        {
          "output_type": "stream",
          "name": "stdout",
          "text": [
            "None\n"
          ]
        }
      ],
      "execution_count": 18
    },
    {
      "cell_type": "markdown",
      "id": "86aa87b3",
      "metadata": {
        "id": "86aa87b3"
      },
      "source": [
        "## Exercise 6 -- Comparison Operators & List Comprehensions\n",
        "Using `num_list` and list comprehensions, create three lists that correspond to the elements in num_list:\n",
        "1. `equal_list` whose elements should be true if the corresponding element in `num_list` is equal to 0 and false otherwise.\n",
        "2. `greater_list` whose elements should be true if the corresponding element in `num_list` is strictly greater than 0 and false otherwise.\n",
        "3. `lesser_list` whose elements should be true if the corresponding element in `num_list` is strictly less than 0 and false otherwise.\n",
        "4. Finally, using the three lists you generated, list comprehensions, and `zip()`, create `true_list` a list of length 7 where every element is true.\n",
        "\n",
        "**Hints for 4:**\n",
        "- `zip` can be used on more than two lists\n",
        "- use `or` within the list comprehension"
      ]
    },
    {
      "cell_type": "code",
      "id": "7a770f90",
      "metadata": {
        "id": "7a770f90",
        "colab": {
          "base_uri": "https://localhost:8080/"
        },
        "outputId": "4b7fc02f-fabb-41f2-ddf5-5e12d1ee5c3d"
      },
      "source": [
        "# Exercise 6 Code\n",
        "# Don't edit the line below\n",
        "num_list = [-5, -3, -1, 0, 1, 3, 5]\n",
        "\n",
        "# your code below here\n",
        "equal_list = [x == 0 for x in num_list]\n",
        "greater_list = [x > 0 for x in num_list]\n",
        "lesser_list = [x < 0 for x in num_list]\n",
        "\n",
        "true_list = [e or g or l for e, g, l in zip(equal_list, greater_list, lesser_list)]\n",
        "\n",
        "print(\"equal_list:\", equal_list)\n",
        "print(\"greater_list:\", greater_list)\n",
        "print(\"lesser_list:\", lesser_list)\n",
        "print(\"true_list:\", true_list)\n",
        "\n"
      ],
      "outputs": [
        {
          "output_type": "stream",
          "name": "stdout",
          "text": [
            "equal_list: [False, False, False, True, False, False, False]\n",
            "greater_list: [False, False, False, False, True, True, True]\n",
            "lesser_list: [True, True, True, False, False, False, False]\n",
            "true_list: [True, True, True, True, True, True, True]\n"
          ]
        }
      ],
      "execution_count": 19
    },
    {
      "cell_type": "markdown",
      "id": "c8b7d7b3",
      "metadata": {
        "id": "c8b7d7b3"
      },
      "source": [
        "## Exercise 7 -- List Comprehensions and Very Basic Plotting\n",
        "Complete the following steps in the cells below:\n",
        "1. Import the `math` module and give it an alias of `mt`.\n",
        "2. Import the `matplotlib.pyplot` module and give it an alias of `plt`.\n",
        "3. Create a variable named `num_range` and set it equal to a range of numbers from 0 to 1000 (including 1000).\n",
        "4. Using `num_range` and a list comprehension, create a list called `sine_list` that is equal to `sin((pi/100) * x)` for every `x` in the range `num_range`. (**Hint:** sin and pi are objects from the math library.)\n",
        "5. Finally, using `plt`, `num_range`, and `sine_list`, generate a line plot."
      ]
    },
    {
      "cell_type": "code",
      "id": "0f6bfae5",
      "metadata": {
        "id": "0f6bfae5",
        "colab": {
          "base_uri": "https://localhost:8080/",
          "height": 472
        },
        "outputId": "b95487b2-d7c5-4e08-fc86-046fbf116c93"
      },
      "source": [
        "# Exercise 7 Code\n",
        "import math as mt\n",
        "import matplotlib.pyplot as plt\n",
        "\n",
        "num_range = range(0, 1001)\n",
        "\n",
        "sine_list = [mt.sin((mt.pi / 100) * x) for x in num_range]\n",
        "\n",
        "plt.plot(num_range, sine_list)\n",
        "plt.title(\"Sine Wave Plot\")\n",
        "plt.xlabel(\"Range\")\n",
        "plt.ylabel(\"sin((π/100) * x)\")\n",
        "plt.grid(True)\n",
        "plt.show()"
      ],
      "outputs": [
        {
          "output_type": "display_data",
          "data": {
            "text/plain": [
              "<Figure size 640x480 with 1 Axes>"
            ],
            "image/png": "[encoded data removed]"
          },
          "metadata": {}
        }
      ],
      "execution_count": 20
    },
    {
      "cell_type": "code",
      "source": [],
      "metadata": {
        "id": "fWYOkCxbDOTf"
      },
      "id": "fWYOkCxbDOTf",
      "execution_count": null,
      "outputs": []
    }
  ],
  "metadata": {
    "kernelspec": {
      "display_name": "Python 3 (ipykernel)",
      "language": "python",
      "name": "python3"
    },
    "language_info": {
      "codemirror_mode": {
        "name": "ipython",
        "version": 3
      },
      "file_extension": ".py",
      "mimetype": "text/x-python",
      "name": "python",
      "nbconvert_exporter": "python",
      "pygments_lexer": "ipython3",
      "version": "3.9.15"
    },
    "colab": {
      "provenance": []
    }
  },
  "nbformat": 4,
  "nbformat_minor": 5
}